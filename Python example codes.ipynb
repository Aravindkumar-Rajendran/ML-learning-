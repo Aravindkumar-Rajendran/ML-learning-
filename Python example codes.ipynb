{
 "cells": [
  {
   "cell_type": "markdown",
   "metadata": {},
   "source": [
    "Python Program to Print Hello world!"
   ]
  },
  {
   "cell_type": "code",
   "execution_count": null,
   "metadata": {},
   "outputs": [],
   "source": [
    "print (\"Hello World\")"
   ]
  },
  {
   "cell_type": "markdown",
   "metadata": {},
   "source": [
    "Python Program to Add Two Numbers\n",
    "\n",
    "We can change the data type to float to input decimal datas"
   ]
  },
  {
   "cell_type": "code",
   "execution_count": null,
   "metadata": {},
   "outputs": [],
   "source": [
    "Num1=int(input(\"Enter the first num:\"))\n",
    "Num2=int(input(\"Enter the Second num:\"))\n",
    "\n",
    "Ans=Num1+Num2\n",
    "print(Ans)"
   ]
  },
  {
   "cell_type": "markdown",
   "metadata": {},
   "source": [
    "Python Program to Find the Square Root"
   ]
  },
  {
   "cell_type": "code",
   "execution_count": 2,
   "metadata": {},
   "outputs": [
    {
     "name": "stdout",
     "output_type": "stream",
     "text": [
      "Enter the number: 16\n",
      "4.0\n"
     ]
    }
   ],
   "source": [
    "Num=float(input(\"Enter the number: \"))\n",
    "sq= float(Num ** 0.5)\n",
    "print(sq)"
   ]
  },
  {
   "cell_type": "markdown",
   "metadata": {},
   "source": [
    "Python Program to Calculate the Area of a Triangle"
   ]
  },
  {
   "cell_type": "code",
   "execution_count": 3,
   "metadata": {},
   "outputs": [
    {
     "name": "stdout",
     "output_type": "stream",
     "text": [
      "Enter the height of the triangle12\n",
      " Enter the base of the triangle23\n",
      "138.0\n"
     ]
    }
   ],
   "source": [
    "Height = int(input(\"Enter the height of the triangle\"))\n",
    "Base = int (input(\" Enter the base of the triangle\"))\n",
    "\n",
    "area= 0.5 * Height * Base\n",
    "print (area)"
   ]
  },
  {
   "cell_type": "markdown",
   "metadata": {},
   "source": [
    "Python Program to Solve Quadratic Equation"
   ]
  },
  {
   "cell_type": "code",
   "execution_count": 4,
   "metadata": {},
   "outputs": [
    {
     "name": "stdout",
     "output_type": "stream",
     "text": [
      "Enter the a in ax2 + bx + c = 01\n",
      "Enter the b in ax2 + bx + c = 05\n",
      "Enter the c in ax2 + bx + c = 06\n",
      "-2.0 -3.0\n"
     ]
    }
   ],
   "source": [
    "a= int(input(\"Enter the a in ax2 + bx + c = 0\"))\n",
    "b= int(input(\"Enter the b in ax2 + bx + c = 0\"))\n",
    "c= int(input(\"Enter the c in ax2 + bx + c = 0\"))\n",
    "\n",
    "root1= (-b+(b**2 - 4 *a*c)**0.5)/(2*a)\n",
    "root2= (-b-(b**2 - 4 *a*c)**0.5)/(2*a)\n",
    "\n",
    "print (root1, root2)\n",
    "\n"
   ]
  },
  {
   "cell_type": "markdown",
   "metadata": {},
   "source": [
    "Python Program to Swap Two Variables"
   ]
  },
  {
   "cell_type": "code",
   "execution_count": 5,
   "metadata": {},
   "outputs": [
    {
     "name": "stdout",
     "output_type": "stream",
     "text": [
      "Enter the first one :23\n",
      "Enter the Second one :45\n",
      "45 23\n"
     ]
    }
   ],
   "source": [
    "a= input(\"Enter the first one :\")\n",
    "b= input(\"Enter the Second one :\")\n",
    "\n",
    "temp=a\n",
    "a=b\n",
    "b=temp\n",
    "\n",
    "print(a,b)"
   ]
  },
  {
   "cell_type": "markdown",
   "metadata": {},
   "source": [
    "Generate random numbers "
   ]
  },
  {
   "cell_type": "code",
   "execution_count": 10,
   "metadata": {},
   "outputs": [
    {
     "name": "stdout",
     "output_type": "stream",
     "text": [
      "24\n",
      "23\n",
      "35\n",
      "14\n",
      "19\n"
     ]
    }
   ],
   "source": [
    "import random\n",
    "for i in range (0,5):\n",
    "  print(random.randint(0,50))\n"
   ]
  },
  {
   "cell_type": "markdown",
   "metadata": {},
   "source": [
    "Convert in kilometers to Miles"
   ]
  },
  {
   "cell_type": "code",
   "execution_count": 16,
   "metadata": {},
   "outputs": [
    {
     "name": "stdout",
     "output_type": "stream",
     "text": [
      "Enter the choice\n",
      "1. km to mile\n",
      "2. Mile to km\n",
      "1\n",
      "Enter the Kilometer: 12\n",
      "19.200\n"
     ]
    }
   ],
   "source": [
    "c=int(input(\"Enter the choice\\n1. km to mile\\n2. Mile to km\\n\"))\n",
    "\n",
    "if(c==1):\n",
    " km= int(input(\"Enter the Kilometer: \"))\n",
    " mile= 1.6 * km\n",
    " print (\"%0.3f\"%(mile))\n",
    "elif(c==2):\n",
    " mile= int(input(\"Enter the Mile\"))\n",
    " print(mile/1.6)"
   ]
  },
  {
   "cell_type": "markdown",
   "metadata": {},
   "source": [
    "Convert Celsius To Fahrenheit"
   ]
  },
  {
   "cell_type": "code",
   "execution_count": 22,
   "metadata": {},
   "outputs": [
    {
     "name": "stdout",
     "output_type": "stream",
     "text": [
      "Enter the choice\n",
      "1. Celsius to Fahrenheit\n",
      "2. Fahrenheit to Celsius\n",
      "2\n",
      "Enter the Fahrenheit212\n",
      "100.0\n"
     ]
    }
   ],
   "source": [
    "c=int(input(\"Enter the choice\\n1. Celsius to Fahrenheit\\n2. Fahrenheit to Celsius\\n\"))\n",
    "\n",
    "if(c==1):\n",
    " C= int(input(\"Enter the Celsius: \"))\n",
    " f= C * 1.8 +32\n",
    " print (\"%0.3f\"%(f))\n",
    "elif(c==2):\n",
    " f= int(input(\"Enter the Fahrenheit\"))\n",
    " print((f-32)/1.8)"
   ]
  },
  {
   "cell_type": "markdown",
   "metadata": {},
   "source": [
    "Python Program to Check Leap Year"
   ]
  },
  {
   "cell_type": "code",
   "execution_count": 24,
   "metadata": {},
   "outputs": [
    {
     "name": "stdout",
     "output_type": "stream",
     "text": [
      "Enter the year to check for leap and non leap year: 2020\n",
      "2020 is a leap year\n"
     ]
    }
   ],
   "source": [
    "y = int(input(\"Enter the year to check for leap and non leap year: \"))\n",
    "l=0\n",
    "if(y%4==0):\n",
    "    if(y%100==0):\n",
    "        if(y%400==0):\n",
    "          l=1\n",
    "        else:\n",
    "          l=0\n",
    "    else:\n",
    "        l=1\n",
    "else:\n",
    "    l=0\n",
    "if(l==1):\n",
    " print(\"%d is a leap year\"%y)\n",
    "else:\n",
    " print(\"%d is not a leap year\"%y)"
   ]
  },
  {
   "cell_type": "markdown",
   "metadata": {},
   "source": [
    "Find the Largest Among Three Numbers"
   ]
  },
  {
   "cell_type": "code",
   "execution_count": 31,
   "metadata": {},
   "outputs": [
    {
     "name": "stdout",
     "output_type": "stream",
     "text": [
      "Enter the first num : 56\n",
      "Enter the Second num : 124\n",
      "Enter the Three num : 45\n",
      "Largest among three numbers 124\n"
     ]
    }
   ],
   "source": [
    "num1=int(input(\"Enter the first num : \"))\n",
    "num2=int(input(\"Enter the Second num : \"))\n",
    "num3=int(input(\"Enter the Three num : \"))\n",
    "List=[num1,  num2, num3]\n",
    "\n",
    "print(\"Largest among three numbers is%d\"%max(List))\n"
   ]
  },
  {
   "cell_type": "markdown",
   "metadata": {},
   "source": [
    "Python Program to Check Prime Number"
   ]
  },
  {
   "cell_type": "code",
   "execution_count": 37,
   "metadata": {},
   "outputs": [
    {
     "name": "stdout",
     "output_type": "stream",
     "text": [
      "Enter the number: 4\n",
      "4 is not a prime number\n"
     ]
    }
   ],
   "source": [
    "num= int(input(\"Enter the number: \"))\n",
    "p=1\n",
    "for i in range(2,num):\n",
    "    if(num%i==0):\n",
    "        p=0\n",
    "        break\n",
    "if(p==1):\n",
    "  print(\"%d is a prime number\"%num)\n",
    "else:\n",
    "  print(\"%d is not a prime number\"%num)"
   ]
  },
  {
   "cell_type": "markdown",
   "metadata": {},
   "source": [
    "Print all Prime Numbers in an Interval"
   ]
  },
  {
   "cell_type": "code",
   "execution_count": 44,
   "metadata": {},
   "outputs": [
    {
     "name": "stdout",
     "output_type": "stream",
     "text": [
      "Enter the interval : \n",
      " between: 12 34\n",
      "13\n",
      "17\n",
      "19\n",
      "23\n",
      "29\n",
      "31\n"
     ]
    }
   ],
   "source": [
    "num1=0\n",
    "num2=0\n",
    "num1 ,num2 =  map(int, input(\"Enter the interval : \\n between: \").split())\n",
    "p=1\n",
    "num=num1\n",
    "for num in range(num1,num2):\n",
    " for i in range(2,num):\n",
    "    if(num%i==0):\n",
    "        p=0\n",
    "        break\n",
    "    else:\n",
    "        p=1\n",
    " if(p==1):\n",
    "  print(num)\n",
    "\n",
    "        \n"
   ]
  },
  {
   "cell_type": "markdown",
   "metadata": {},
   "source": [
    "Print the Fibonacci sequence"
   ]
  },
  {
   "cell_type": "code",
   "execution_count": 47,
   "metadata": {},
   "outputs": [
    {
     "name": "stdout",
     "output_type": "stream",
     "text": [
      "How many numbers:15\n",
      "0 \n",
      " 1\n",
      "1\n",
      "2\n",
      "3\n",
      "5\n",
      "8\n",
      "13\n",
      "21\n",
      "34\n",
      "55\n",
      "89\n",
      "144\n",
      "233\n",
      "377\n"
     ]
    }
   ],
   "source": [
    "f=int(input(\"How many numbers:\"))\n",
    "a=0\n",
    "b=1\n",
    "print(a,\"\\n\",b)\n",
    "for i in range(2,f):\n",
    "    c=a+b\n",
    "    a=b\n",
    "    b=c\n",
    "    print(c)"
   ]
  },
  {
   "cell_type": "markdown",
   "metadata": {},
   "source": [
    "Factorial Number"
   ]
  },
  {
   "cell_type": "code",
   "execution_count": 50,
   "metadata": {},
   "outputs": [
    {
     "name": "stdout",
     "output_type": "stream",
     "text": [
      "Enter the number: 8\n",
      "40320\n"
     ]
    }
   ],
   "source": [
    "n = int(input(\"Enter the number: \"))\n",
    "ans=1\n",
    "for i in range(1,n+1):\n",
    "    ans=ans*i\n",
    "print(ans)"
   ]
  },
  {
   "cell_type": "markdown",
   "metadata": {},
   "source": [
    "Armstrong Number"
   ]
  },
  {
   "cell_type": "code",
   "execution_count": 70,
   "metadata": {},
   "outputs": [
    {
     "name": "stdout",
     "output_type": "stream",
     "text": [
      "Enter the number:153\n",
      "153 is an Armstrong Number\n"
     ]
    }
   ],
   "source": [
    "Arm=int(input(\"Enter the number:\"))\n",
    "n=Arm\n",
    "ans=int(0)\n",
    "while (Arm >0):\n",
    "   temp=int(Arm%10)\n",
    "   ans+=int(temp**3)\n",
    "   Arm=int(Arm/10)\n",
    "if(ans==n):\n",
    "    print(\"%d is an Armstrong Number\"%n)\n",
    "else:\n",
    "    print(\"%d is not an Armstrong Number\"%n)"
   ]
  },
  {
   "cell_type": "markdown",
   "metadata": {},
   "source": [
    "Binary, Octal adn Hexa"
   ]
  },
  {
   "cell_type": "code",
   "execution_count": 71,
   "metadata": {},
   "outputs": [
    {
     "name": "stdout",
     "output_type": "stream",
     "text": [
      "Enter the Number: 23\n",
      "0o27 is the octal equivalent\n",
      "0b10111 is the decimal equivalent\n",
      "0x17 is the hexadecimal equivalent\n"
     ]
    }
   ],
   "source": [
    "d= int(input(\"Enter the Number: \"))\n",
    "\n",
    "print(oct(d),\"is the octal equivalent\")\n",
    "print(bin(d),\"is the decimal equivalent\")\n",
    "print(hex(d),\"is the hexadecimal equivalent\")"
   ]
  },
  {
   "cell_type": "markdown",
   "metadata": {},
   "source": [
    "Punctuations remover"
   ]
  },
  {
   "cell_type": "code",
   "execution_count": 81,
   "metadata": {},
   "outputs": [
    {
     "name": "stdout",
     "output_type": "stream",
     "text": [
      "Enter the sentence where punctuations need to be eliminated :Hello@#!jksdf()\n",
      "Hellojksdf\n"
     ]
    }
   ],
   "source": [
    "punctuations = '''!()-[]{};:'\"\\,<>./?@#$%^&*_~'''\n",
    "punctuation= '''!'''\n",
    "\n",
    "\n",
    "string= input(\"Enter the sentence where punctuations need to be eliminated :\")\n",
    "no_punct = \"\"\n",
    "for char in string:\n",
    "   if char not in punctuations:\n",
    "       no_punct = no_punct + char\n",
    "\n",
    "\n",
    "print(no_punct)"
   ]
  },
  {
   "cell_type": "code",
   "execution_count": 92,
   "metadata": {},
   "outputs": [
    {
     "ename": "SMTPNotSupportedError",
     "evalue": "SMTP AUTH extension not supported by server.",
     "output_type": "error",
     "traceback": [
      "\u001b[1;31m---------------------------------------------------------------------------\u001b[0m",
      "\u001b[1;31mSMTPNotSupportedError\u001b[0m                     Traceback (most recent call last)",
      "\u001b[1;32m<ipython-input-92-297b4c49c57f>\u001b[0m in \u001b[0;36m<module>\u001b[1;34m()\u001b[0m\n\u001b[0;32m      2\u001b[0m \u001b[0mserver\u001b[0m \u001b[1;33m=\u001b[0m \u001b[0msmtplib\u001b[0m\u001b[1;33m.\u001b[0m\u001b[0mSMTP\u001b[0m\u001b[1;33m(\u001b[0m\u001b[1;34m'smtp.gmail.com'\u001b[0m\u001b[1;33m,\u001b[0m \u001b[1;36m587\u001b[0m\u001b[1;33m)\u001b[0m\u001b[1;33m\u001b[0m\u001b[0m\n\u001b[0;32m      3\u001b[0m \u001b[1;31m#Next, log in to the server\u001b[0m\u001b[1;33m\u001b[0m\u001b[1;33m\u001b[0m\u001b[0m\n\u001b[1;32m----> 4\u001b[1;33m \u001b[0mserver\u001b[0m\u001b[1;33m.\u001b[0m\u001b[0mlogin\u001b[0m\u001b[1;33m(\u001b[0m\u001b[1;34m\"aravindrajendran1997@gmail.com\"\u001b[0m\u001b[1;33m,\u001b[0m \u001b[1;34m\"Qazxcvbn1997\"\u001b[0m\u001b[1;33m)\u001b[0m\u001b[1;33m\u001b[0m\u001b[0m\n\u001b[0m\u001b[0;32m      5\u001b[0m \u001b[1;33m\u001b[0m\u001b[0m\n\u001b[0;32m      6\u001b[0m \u001b[1;31m#Send the mail\u001b[0m\u001b[1;33m\u001b[0m\u001b[1;33m\u001b[0m\u001b[0m\n",
      "\u001b[1;32mC:\\Anaconda\\lib\\smtplib.py\u001b[0m in \u001b[0;36mlogin\u001b[1;34m(self, user, password, initial_response_ok)\u001b[0m\n\u001b[0;32m    695\u001b[0m         \u001b[1;32mif\u001b[0m \u001b[1;32mnot\u001b[0m \u001b[0mself\u001b[0m\u001b[1;33m.\u001b[0m\u001b[0mhas_extn\u001b[0m\u001b[1;33m(\u001b[0m\u001b[1;34m\"auth\"\u001b[0m\u001b[1;33m)\u001b[0m\u001b[1;33m:\u001b[0m\u001b[1;33m\u001b[0m\u001b[0m\n\u001b[0;32m    696\u001b[0m             raise SMTPNotSupportedError(\n\u001b[1;32m--> 697\u001b[1;33m                 \"SMTP AUTH extension not supported by server.\")\n\u001b[0m\u001b[0;32m    698\u001b[0m \u001b[1;33m\u001b[0m\u001b[0m\n\u001b[0;32m    699\u001b[0m         \u001b[1;31m# Authentication methods the server claims to support\u001b[0m\u001b[1;33m\u001b[0m\u001b[1;33m\u001b[0m\u001b[0m\n",
      "\u001b[1;31mSMTPNotSupportedError\u001b[0m: SMTP AUTH extension not supported by server."
     ]
    }
   ],
   "source": [
    "import smtplib\n",
    "server = smtplib.SMTP('smtp.gmail.com', 587)\n",
    "#Next, log in to the server\n",
    "server.login(\"aravindrajendran1997@gmail.com\", \"Qazxcvbn1997\")\n",
    "\n",
    "#Send the mail\n",
    "msg = \"Hello!\" \n",
    "# The /n separates the message from the headers\n",
    "server.sendmail(\"r.aravindkumar.18081997@gmail.com\", \"r.aravindkumar.18081997@gmail.com\", msg)"
   ]
  },
  {
   "cell_type": "code",
   "execution_count": 14,
   "metadata": {},
   "outputs": [
    {
     "name": "stdout",
     "output_type": "stream",
     "text": [
      "1 2 3 5 7 11 13 17 19 23 29 31 37 41 43 47 53 59 61 67 71 73 79 83 89 97 "
     ]
    }
   ],
   "source": [
    "for i in range(1,100):\n",
    "    for j in range(2,i):\n",
    "        if (i % j) == 0:\n",
    "           break  \n",
    "    else:\n",
    "        print(i, end=\" \")\n",
    "       \n",
    "    "
   ]
  },
  {
   "cell_type": "code",
   "execution_count": null,
   "metadata": {},
   "outputs": [],
   "source": []
  }
 ],
 "metadata": {
  "kernelspec": {
   "display_name": "Python 3",
   "language": "python",
   "name": "python3"
  },
  "language_info": {
   "codemirror_mode": {
    "name": "ipython",
    "version": 3
   },
   "file_extension": ".py",
   "mimetype": "text/x-python",
   "name": "python",
   "nbconvert_exporter": "python",
   "pygments_lexer": "ipython3",
   "version": "3.7.0"
  }
 },
 "nbformat": 4,
 "nbformat_minor": 2
}
